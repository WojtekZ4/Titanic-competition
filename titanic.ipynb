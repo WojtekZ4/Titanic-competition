{
 "cells": [
  {
   "cell_type": "code",
   "execution_count": 1,
   "metadata": {
    "collapsed": true
   },
   "outputs": [],
   "source": [
    "import numpy as np"
   ]
  },
  {
   "cell_type": "code",
   "execution_count": 2,
   "outputs": [],
   "source": [
    "import os\n",
    "\n",
    "TITANIC_PATH = os.path.join(\"datasets\", \"titanic\")"
   ],
   "metadata": {
    "collapsed": false,
    "pycharm": {
     "name": "#%%\n"
    }
   }
  },
  {
   "cell_type": "code",
   "execution_count": 3,
   "outputs": [],
   "source": [
    "import pandas as pd\n",
    "\n",
    "def load_titanic_data(filename, titanic_path=TITANIC_PATH):\n",
    "    csv_path = os.path.join(titanic_path, filename)\n",
    "    return pd.read_csv(csv_path)"
   ],
   "metadata": {
    "collapsed": false,
    "pycharm": {
     "name": "#%%\n"
    }
   }
  },
  {
   "cell_type": "code",
   "execution_count": 4,
   "outputs": [],
   "source": [
    "train_data = load_titanic_data(\"train.csv\")\n",
    "test_data = load_titanic_data(\"test.csv\")"
   ],
   "metadata": {
    "collapsed": false,
    "pycharm": {
     "name": "#%%\n"
    }
   }
  },
  {
   "cell_type": "code",
   "execution_count": 5,
   "outputs": [
    {
     "name": "stdout",
     "output_type": "stream",
     "text": [
      "X.shape: (891, 11) y.shape: (891,)\n"
     ]
    }
   ],
   "source": [
    "from sklearn.preprocessing import LabelEncoder\n",
    "X = train_data.drop(['Survived'], axis=1)\n",
    "y = train_data['Survived'].values\n",
    "np.unique(y)\n",
    "\n",
    "label_encoder = LabelEncoder()\n",
    "y = label_encoder.fit_transform(y)\n",
    "\n",
    "print(\"X.shape: {} y.shape: {}\".format(X.shape, y.shape))"
   ],
   "metadata": {
    "collapsed": false,
    "pycharm": {
     "name": "#%%\n"
    }
   }
  },
  {
   "cell_type": "code",
   "execution_count": 6,
   "outputs": [],
   "source": [
    "from sklearn.model_selection import train_test_split\n",
    "\n",
    "X_train, X_test, y_train, y_test = train_test_split(X, y, test_size=0.20, random_state=62)\n",
    "\n",
    "# X_train = X\n",
    "# y_train = y\n",
    "# X_test = X\n",
    "# y_test = y"
   ],
   "metadata": {
    "collapsed": false,
    "pycharm": {
     "name": "#%%\n"
    }
   }
  },
  {
   "cell_type": "code",
   "execution_count": 7,
   "outputs": [],
   "source": [
    "from sklearn.base import BaseEstimator, TransformerMixin\n",
    "\n",
    "class DataFrameSelector(BaseEstimator, TransformerMixin):\n",
    "    def __init__(self, attribute_names):\n",
    "        self.attribute_names = attribute_names\n",
    "\n",
    "    def fit(self, X, y=None):\n",
    "        return self\n",
    "\n",
    "    def transform(self, X):\n",
    "        return X[self.attribute_names]"
   ],
   "metadata": {
    "collapsed": false,
    "pycharm": {
     "name": "#%%\n"
    }
   }
  },
  {
   "cell_type": "code",
   "execution_count": 8,
   "outputs": [],
   "source": [
    "from sklearn.pipeline import Pipeline\n",
    "from sklearn.impute import SimpleImputer\n",
    "from sklearn.preprocessing import StandardScaler\n",
    "\n",
    "num_pipeline = Pipeline([\n",
    "    (\"select_numeric\", DataFrameSelector([\"PassengerId\", \"Pclass\", \"Age\", \"SibSp\", \"Parch\", \"Fare\"])),\n",
    "    (\"scaler\", StandardScaler()),\n",
    "    (\"imputer\", SimpleImputer(strategy=\"median\"))\n",
    "])"
   ],
   "metadata": {
    "collapsed": false,
    "pycharm": {
     "name": "#%%\n"
    }
   }
  },
  {
   "cell_type": "code",
   "execution_count": 9,
   "outputs": [
    {
     "data": {
      "text/plain": "array([[-0.65734042, -1.57572804,  2.21288667,  0.48939793, -0.47260274,\n         0.90690862],\n       [-0.35843784, -1.57572804, -0.1439248 , -0.47852242, -0.47260274,\n         0.04750075],\n       [-0.51182206, -0.37324319, -0.27859974,  0.48939793,  0.74657534,\n        -0.13254992],\n       ...,\n       [ 0.5933309 ,  0.82924166, -0.1439248 , -0.47852242,  1.96575342,\n        -0.49765267],\n       [-1.64450552,  0.82924166, -1.49067421,  2.42523863,  0.74657534,\n        -0.23107765],\n       [ 0.3455564 , -0.37324319, -1.89469903,  0.48939793,  0.74657534,\n        -0.13254992]])"
     },
     "execution_count": 9,
     "metadata": {},
     "output_type": "execute_result"
    }
   ],
   "source": [
    "num_pipeline.fit_transform(X_train)"
   ],
   "metadata": {
    "collapsed": false,
    "pycharm": {
     "name": "#%%\n"
    }
   }
  },
  {
   "cell_type": "code",
   "execution_count": 10,
   "outputs": [],
   "source": [
    "# Inspired from stackoverflow.com/questions/25239958\n",
    "class MostFrequentImputer(BaseEstimator, TransformerMixin):\n",
    "    def fit(self, X, y=None):\n",
    "        self.most_frequent_ = pd.Series([X[c].value_counts().index[0] for c in X],\n",
    "                                        index=X.columns)\n",
    "        return self\n",
    "\n",
    "    def transform(self, X, y=None):\n",
    "        return X.fillna(self.most_frequent_)"
   ],
   "metadata": {
    "collapsed": false,
    "pycharm": {
     "name": "#%%\n"
    }
   }
  },
  {
   "cell_type": "code",
   "execution_count": 11,
   "outputs": [],
   "source": [
    "# from future_encoders import OneHotEncoder\n",
    "from sklearn.preprocessing import OneHotEncoder\n",
    "\n",
    "cat_pipeline = Pipeline([\n",
    "    (\"select_cat\", DataFrameSelector([\"Name\", \"Sex\", \"Ticket\", \"Embarked\"])),\n",
    "    (\"imputer\", MostFrequentImputer()),\n",
    "    (\"cat_encoder\", OneHotEncoder(sparse=False, handle_unknown='ignore'))\n",
    "])"
   ],
   "metadata": {
    "collapsed": false,
    "pycharm": {
     "name": "#%%\n"
    }
   }
  },
  {
   "cell_type": "code",
   "execution_count": 12,
   "outputs": [
    {
     "data": {
      "text/plain": "array([[0., 0., 0., ..., 0., 0., 1.],\n       [0., 0., 0., ..., 0., 0., 1.],\n       [0., 0., 0., ..., 0., 0., 1.],\n       ...,\n       [0., 0., 0., ..., 0., 1., 0.],\n       [0., 0., 0., ..., 0., 0., 1.],\n       [0., 0., 0., ..., 0., 0., 1.]])"
     },
     "execution_count": 12,
     "metadata": {},
     "output_type": "execute_result"
    }
   ],
   "source": [
    "cat_pipeline.fit_transform(X_train)"
   ],
   "metadata": {
    "collapsed": false,
    "pycharm": {
     "name": "#%%\n"
    }
   }
  },
  {
   "cell_type": "code",
   "execution_count": 13,
   "outputs": [],
   "source": [
    "from sklearn.pipeline import FeatureUnion\n",
    "\n",
    "preprocess_pipeline = FeatureUnion(transformer_list=[\n",
    "    (\"num_pipeline\", num_pipeline),\n",
    "    (\"cat_pipeline\", cat_pipeline),\n",
    "])"
   ],
   "metadata": {
    "collapsed": false,
    "pycharm": {
     "name": "#%%\n"
    }
   }
  },
  {
   "cell_type": "code",
   "execution_count": 14,
   "outputs": [],
   "source": [
    "from sklearn.model_selection import StratifiedKFold\n",
    "from sklearn.model_selection import GridSearchCV\n",
    "\n",
    "models = []\n",
    "\n",
    "seed = 213\n",
    "kfold = StratifiedKFold(n_splits=5)"
   ],
   "metadata": {
    "collapsed": false,
    "pycharm": {
     "name": "#%%\n"
    }
   }
  },
  {
   "cell_type": "code",
   "execution_count": 15,
   "outputs": [
    {
     "name": "stdout",
     "output_type": "stream",
     "text": [
      "{'classifier__C': 100, 'classifier__gamma': 0.01}\n"
     ]
    }
   ],
   "source": [
    "from sklearn.svm import SVC\n",
    "from sklearn.pipeline import Pipeline\n",
    "from sklearn.model_selection import GridSearchCV\n",
    "\n",
    "pipe = Pipeline([\n",
    "    ('preprocessing', preprocess_pipeline),\n",
    "    ('classifier', SVC(kernel=\"rbf\"))])\n",
    "\n",
    "param_grid = {\n",
    "    # 'classifier__gamma': [10**(-3), 10**(-2),10**(-1), 1],\n",
    "    # 'classifier__C': [ 10**(-1), 1, 10**(1), 10**(2), 10**(3), 10**(4), 10**(5)]\n",
    "\n",
    "    # 'classifier__gamma': [10**(-3), 10**(-2),10**(-1)],\n",
    "    # 'classifier__C': [10**(1), 10**(2), 10**(3), 10**(4), 10**(5), 10**(6), 10**(7), 10**(9), 10**(11)]\n",
    "\n",
    "    'classifier__gamma': [10**(-3), 10**(-2), 10**(-1)],\n",
    "    'classifier__C': [10**(1), 10**(2), 10**(3), 10**(4)]\n",
    "\n",
    "    # 'classifier__gamma': [0.0214, 0.0215, 0.0216],\n",
    "    # 'classifier__C': [21, 22, 23, 24, 25, 26, 27, 28]\n",
    "\n",
    "    # 'classifier__gamma': [0.001, 0.005, 0.01, 0.02, 0.1],\n",
    "    # 'classifier__C': [1, 10, 90, 100, 110, 500]\n",
    "\n",
    "    # 'classifier__gamma': [0.00899, 0.009, 0.00901, 0.01],\n",
    "    # 'classifier__C': [64, 65, 66, 70, 75, 80, 85]\n",
    "}\n",
    "\n",
    "rbf_grid = GridSearchCV(pipe, param_grid, cv=kfold)\n",
    "\n",
    "rbf_grid.fit(X_train, y_train)\n",
    "print(rbf_grid.best_params_)\n",
    "\n",
    "models.append(('SVM rbf', rbf_grid.best_estimator_))"
   ],
   "metadata": {
    "collapsed": false,
    "pycharm": {
     "name": "#%%\n"
    }
   }
  },
  {
   "cell_type": "code",
   "execution_count": 16,
   "outputs": [
    {
     "data": {
      "text/plain": "<Figure size 432x288 with 1 Axes>",
      "image/png": "[encoded data removed]"
     },
     "metadata": {
      "needs_background": "light"
     },
     "output_type": "display_data"
    }
   ],
   "source": [
    "from matplotlib import pyplot as plt\n",
    "\n",
    "\n",
    "def heatmap(values, xlabel, ylabel, xticklabels, yticklabels, cmap=None,\n",
    "            vmin=None, vmax=None, ax=None, fmt=\"%0.2f\"):\n",
    "    if ax is None:\n",
    "        ax = plt.gca()\n",
    "    # plot the mean cross-validation scores\n",
    "    img = ax.pcolor(values, cmap=cmap, vmin=vmin, vmax=vmax)\n",
    "    img.update_scalarmappable()\n",
    "    ax.set_xlabel(xlabel)\n",
    "    ax.set_ylabel(ylabel)\n",
    "    ax.set_xticks(np.arange(len(xticklabels)) + .5)\n",
    "    ax.set_yticks(np.arange(len(yticklabels)) + .5)\n",
    "    ax.set_xticklabels(xticklabels)\n",
    "    ax.set_yticklabels(yticklabels)\n",
    "    ax.set_aspect(1)\n",
    "\n",
    "    for p, color, value in zip(img.get_paths(), img.get_facecolors(),\n",
    "                               img.get_array()):\n",
    "        x, y = p.vertices[:-2, :].mean(0)\n",
    "        if np.mean(color[:3]) > 0.5:\n",
    "            c = 'k'\n",
    "        else:\n",
    "            c = 'w'\n",
    "        ax.text(x, y, fmt % value, color=c, ha=\"center\", va=\"center\")\n",
    "    return img\n",
    "\n",
    "\n",
    "results = pd.DataFrame(rbf_grid.cv_results_)\n",
    "\n",
    "scores = np.array(results.mean_test_score).reshape(len(param_grid['classifier__C']),\n",
    "                                                   len(param_grid['classifier__gamma']))\n",
    "\n",
    "heatmap(scores, xlabel='gamma', xticklabels=param_grid['classifier__gamma'], ylabel='C',\n",
    "        yticklabels=param_grid['classifier__C'], cmap=\"viridis\")\n",
    "plt.show()"
   ],
   "metadata": {
    "collapsed": false,
    "pycharm": {
     "name": "#%%\n"
    }
   }
  },
  {
   "cell_type": "code",
   "execution_count": 17,
   "outputs": [
    {
     "name": "stdout",
     "output_type": "stream",
     "text": [
      "{'classifier__C': 1, 'classifier__coef0': 1, 'classifier__degree': 4}\n"
     ]
    }
   ],
   "source": [
    "\n",
    "from sklearn.svm import SVC\n",
    "from sklearn.pipeline import Pipeline\n",
    "from sklearn.model_selection import GridSearchCV\n",
    "\n",
    "pipe = Pipeline([\n",
    "    ('preprocessing', preprocess_pipeline),\n",
    "    ('classifier', SVC(kernel='poly'))])\n",
    "\n",
    "param_grid = {\n",
    "    'classifier__degree': [1, 2, 3, 4, 5],\n",
    "    'classifier__C': [10 ** (-2), 10 ** (-1), 1, 10 ** (1), 10 ** (2)],\n",
    "    'classifier__coef0': [0, 1]\n",
    "\n",
    "    # 'classifier__degree': [1,2,3,4],\n",
    "    # 'classifier__C': [1, 5,10,15],\n",
    "    # 'classifier__coef0': [0,0.5,0.9, 1]\n",
    "\n",
    "    # 'classifier__degree': [1, 2, 3],\n",
    "    # 'classifier__C': [2.87, 2.88, 2.89, 2.9],\n",
    "    # 'classifier__coef0': [0.85, 0.86, 0.87, 0.88, 0.89]\n",
    "}\n",
    "\n",
    "poly_grid = GridSearchCV(pipe, param_grid, cv=kfold)\n",
    "\n",
    "poly_grid.fit(X_train, y_train)\n",
    "print(poly_grid.best_params_)\n",
    "\n",
    "models.append(('SVM poly', poly_grid.best_estimator_))"
   ],
   "metadata": {
    "collapsed": false,
    "pycharm": {
     "name": "#%%\n"
    }
   }
  },
  {
   "cell_type": "code",
   "execution_count": 18,
   "outputs": [
    {
     "name": "stdout",
     "output_type": "stream",
     "text": [
      "{'classifier__criterion': 'gini', 'classifier__max_depth': 30, 'classifier__n_estimators': 50}\n"
     ]
    }
   ],
   "source": [
    "from sklearn.ensemble import RandomForestClassifier\n",
    "from sklearn import metrics\n",
    "\n",
    "pipe = Pipeline([\n",
    "    ('preprocessing', preprocess_pipeline),\n",
    "    ('classifier', RandomForestClassifier(random_state=70))])\n",
    "\n",
    "param_grid = {\n",
    "    # \"classifier__max_depth\": [1, 5, 10, 20, 30, 40, 50],\n",
    "    # \"classifier__max_features\": [ 'sqrt'],\n",
    "    # \"classifier__n_estimators\":[1, 5, 10, 20, 30, 40, 50]\n",
    "\n",
    "    \"classifier__max_depth\": [20, 30, 50],\n",
    "    \"classifier__n_estimators\": [20, 30, 50],\n",
    "    'classifier__criterion': ['gini', 'entropy', 'log_loss']\n",
    "\n",
    "    # \"classifier__max_depth\": [15, 20, 25, 30],\n",
    "    # \"classifier__max_features\": [ 'sqrt', 'log2'],\n",
    "    # \"classifier__n_estimators\":[100]\n",
    "}\n",
    "\n",
    "tree_grid = GridSearchCV(pipe, param_grid, cv=kfold)\n",
    "\n",
    "tree_grid.fit(X_train, y_train)\n",
    "print(tree_grid.best_params_)\n",
    "models.append(('random forest', tree_grid.best_estimator_))"
   ],
   "metadata": {
    "collapsed": false,
    "pycharm": {
     "name": "#%%\n"
    }
   }
  },
  {
   "cell_type": "code",
   "execution_count": 18,
   "outputs": [
    {
     "name": "stdout",
     "output_type": "stream",
     "text": [
      "name: SVM rbf\n",
      "precision_score: 0.9107142857142857\n",
      "recall_score: 0.6623376623376623\n",
      "f1_score: 0.7669172932330827\n",
      "accuracy_score: 0.8268156424581006\n",
      "name: SVM poly\n",
      "precision_score: 0.9074074074074074\n",
      "recall_score: 0.6363636363636364\n",
      "f1_score: 0.7480916030534351\n",
      "accuracy_score: 0.8156424581005587\n"
     ]
    }
   ],
   "source": [
    "from sklearn import metrics\n",
    "\n",
    "Method = []\n",
    "precision_score = []\n",
    "recall_score = []\n",
    "f1_score = []\n",
    "accuracy_score = []\n",
    "\n",
    "for name, model in models:\n",
    "    print(\"name: {}\".format(name))\n",
    "    print(\"precision_score: {}\".format(metrics.precision_score(y_test, model.predict(X_test))))\n",
    "    print(\"recall_score: {}\".format(metrics.recall_score(y_test, model.predict(X_test))))\n",
    "    print(\"f1_score: {}\".format(metrics.f1_score(y_test, model.predict(X_test))))\n",
    "    print(\"accuracy_score: {}\".format(metrics.accuracy_score(y_test, model.predict(X_test))))\n",
    "    Method.append(name)\n",
    "    precision_score.append(metrics.precision_score(y_test, model.predict(X_test)))\n",
    "    recall_score.append(metrics.recall_score(y_test, model.predict(X_test)))\n",
    "    f1_score.append(metrics.f1_score(y_test, model.predict(X_test)))\n",
    "    accuracy_score.append(metrics.accuracy_score(y_test, model.predict(X_test)))\n",
    "    output = pd.DataFrame({'PassengerId': test_data.PassengerId, 'Survived': model.predict(test_data)})\n",
    "    output.to_csv(name + '.csv', index=False)"
   ],
   "metadata": {
    "collapsed": false,
    "pycharm": {
     "name": "#%%\n"
    }
   }
  },
  {
   "cell_type": "code",
   "execution_count": 20,
   "outputs": [],
   "source": [
    " # models=[]"
   ],
   "metadata": {
    "collapsed": false,
    "pycharm": {
     "name": "#%%\n"
    }
   }
  },
  {
   "cell_type": "code",
   "execution_count": null,
   "outputs": [],
   "source": [],
   "metadata": {
    "collapsed": false,
    "pycharm": {
     "name": "#%%\n"
    }
   }
  }
 ],
 "metadata": {
  "kernelspec": {
   "display_name": "Python 3",
   "language": "python",
   "name": "python3"
  },
  "language_info": {
   "codemirror_mode": {
    "name": "ipython",
    "version": 2
   },
   "file_extension": ".py",
   "mimetype": "text/x-python",
   "name": "python",
   "nbconvert_exporter": "python",
   "pygments_lexer": "ipython2",
   "version": "2.7.6"
  }
 },
 "nbformat": 4,
 "nbformat_minor": 0
}